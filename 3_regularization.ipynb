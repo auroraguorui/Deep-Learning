{
 "cells": [
  {
   "cell_type": "markdown",
   "metadata": {},
   "source": [
    "# Deep Learning\n",
    "### Assignment 3\n",
    "Previously in 2_fullyconnected.ipynb, you trained a logistic regression and a neural network model.\n",
    "\n",
    "The goal of this assignment is to explore regularization techniques."
   ]
  },
  {
   "cell_type": "code",
   "execution_count": 12,
   "metadata": {
    "collapsed": true
   },
   "outputs": [],
   "source": [
    "# These are all the modules we'll be using later. Make sure you can import them\n",
    "# before proceeding further.\n",
    "from __future__ import print_function\n",
    "import numpy as np\n",
    "import tensorflow as tf\n",
    "from six.moves import cPickle as pickle"
   ]
  },
  {
   "cell_type": "markdown",
   "metadata": {},
   "source": [
    "First reload the data we generated in notmist.ipynb."
   ]
  },
  {
   "cell_type": "code",
   "execution_count": 13,
   "metadata": {
    "collapsed": false
   },
   "outputs": [
    {
     "name": "stdout",
     "output_type": "stream",
     "text": [
      "Training set (200000, 28, 28) (200000,)\n",
      "Validation set (10000, 28, 28) (10000,)\n",
      "Test set (10000, 28, 28) (10000,)\n"
     ]
    }
   ],
   "source": [
    "pickle_file = 'notMNIST.pickle'\n",
    "\n",
    "with open(pickle_file, 'rb') as f:\n",
    "    save = pickle.load(f)\n",
    "    train_dataset = save['train_dataset']\n",
    "    train_labels = save['train_labels']\n",
    "    valid_dataset = save['valid_dataset']\n",
    "    valid_labels = save['valid_labels']\n",
    "    test_dataset = save['test_dataset']\n",
    "    test_labels = save['test_labels']\n",
    "    del save  # hint to help gc free up memory\n",
    "    print('Training set', train_dataset.shape, train_labels.shape)\n",
    "    print('Validation set', valid_dataset.shape, valid_labels.shape)\n",
    "    print('Test set', test_dataset.shape, test_labels.shape)"
   ]
  },
  {
   "cell_type": "markdown",
   "metadata": {},
   "source": [
    "Reformat into a shape that's more adapted to the models we're going to train:\n",
    "- data as a flat matrix,\n",
    "- labels as float 1-hot encodings."
   ]
  },
  {
   "cell_type": "code",
   "execution_count": 14,
   "metadata": {
    "collapsed": false
   },
   "outputs": [
    {
     "name": "stdout",
     "output_type": "stream",
     "text": [
      "Training set (200000, 784) (200000, 10)\n",
      "Validation set (10000, 784) (10000, 10)\n",
      "Test set (10000, 784) (10000, 10)\n"
     ]
    }
   ],
   "source": [
    "image_size = 28\n",
    "num_labels = 10\n",
    "\n",
    "def reformat(dataset, labels):\n",
    "    dataset = dataset.reshape((-1, image_size * image_size)).astype(np.float32)\n",
    "    # Map 2 to [0.0, 1.0, 0.0 ...], 3 to [0.0, 0.0, 1.0 ...]\n",
    "    labels = (np.arange(num_labels) == labels[:,None]).astype(np.float32)\n",
    "    return dataset, labels\n",
    "train_dataset, train_labels = reformat(train_dataset, train_labels)\n",
    "valid_dataset, valid_labels = reformat(valid_dataset, valid_labels)\n",
    "test_dataset, test_labels = reformat(test_dataset, test_labels)\n",
    "print('Training set', train_dataset.shape, train_labels.shape)\n",
    "print('Validation set', valid_dataset.shape, valid_labels.shape)\n",
    "print('Test set', test_dataset.shape, test_labels.shape)"
   ]
  },
  {
   "cell_type": "code",
   "execution_count": 15,
   "metadata": {
    "collapsed": true
   },
   "outputs": [],
   "source": [
    "def accuracy(predictions, labels):\n",
    "    return (100.0 * np.sum(np.argmax(predictions, 1) == np.argmax(labels, 1)) / predictions.shape[0])"
   ]
  },
  {
   "cell_type": "markdown",
   "metadata": {},
   "source": [
    "# Problem 1\n",
    "Introduce and tune L2 regularization for both logistic and neural network models. Remember that L2 amounts to adding a penalty on the norm of the weights to the loss. In TensorFlow, you can compute the L2 loss for a tensor t using nn.l2_loss(t). The right amount of regularization should improve your validation / test accuracy."
   ]
  },
  {
   "cell_type": "markdown",
   "metadata": {},
   "source": [
    "-----------------\n",
    "### logistic regression with l2 loss function\n",
    "regularizing with beta = 0.01"
   ]
  },
  {
   "cell_type": "code",
   "execution_count": 16,
   "metadata": {
    "collapsed": true
   },
   "outputs": [],
   "source": [
    "# multinomial logistic regression \n",
    "train_subset = 10000\n",
    "beta = 0.01\n",
    "\n",
    "graph = tf.Graph()\n",
    "with graph.as_default():\n",
    "\n",
    "    # Input data.\n",
    "    tf_train_dataset = tf.constant(train_dataset[:train_subset, :])\n",
    "    tf_train_labels = tf.constant(train_labels[:train_subset])\n",
    "    tf_valid_dataset = tf.constant(valid_dataset)\n",
    "    tf_test_dataset = tf.constant(test_dataset)\n",
    "  \n",
    "    # Variables    \n",
    "    weights = tf.Variable(\n",
    "    tf.truncated_normal([image_size * image_size, num_labels]))\n",
    "    biases = tf.Variable(tf.zeros([num_labels]))\n",
    "  \n",
    "    # Training computation.\n",
    "    logits = tf.matmul(tf_train_dataset, weights) + biases\n",
    "    \n",
    "    # loss function using l2\n",
    "    loss = tf.reduce_mean( tf.nn.softmax_cross_entropy_with_logits(logits, tf_train_labels) )\n",
    "    loss = tf.reduce_mean(loss + beta * tf.nn.l2_loss(weights) )\n",
    "    \n",
    "    # Optimizer.\n",
    "    optimizer = tf.train.GradientDescentOptimizer(0.5).minimize(loss)\n",
    "  \n",
    "    # Predictions for the training, validation, and test data.\n",
    "    train_prediction = tf.nn.softmax(logits)\n",
    "    valid_prediction = tf.nn.softmax( tf.matmul(tf_valid_dataset, weights) + biases )\n",
    "    test_prediction = tf.nn.softmax(tf.matmul(tf_test_dataset, weights) + biases)"
   ]
  },
  {
   "cell_type": "code",
   "execution_count": 17,
   "metadata": {
    "collapsed": false
   },
   "outputs": [
    {
     "name": "stdout",
     "output_type": "stream",
     "text": [
      "Initialized\n",
      "Loss at step 0: 49.704948\n",
      "Training accuracy: 11.1%\n",
      "Validation accuracy: 12.4%\n",
      "Loss at step 100: 11.658316\n",
      "Training accuracy: 73.6%\n",
      "Validation accuracy: 71.9%\n",
      "Loss at step 200: 4.405949\n",
      "Training accuracy: 79.2%\n",
      "Validation accuracy: 76.8%\n",
      "Loss at step 300: 1.954034\n",
      "Training accuracy: 82.7%\n",
      "Validation accuracy: 79.7%\n",
      "Loss at step 400: 1.120747\n",
      "Training accuracy: 84.0%\n",
      "Validation accuracy: 81.3%\n",
      "Loss at step 500: 0.833583\n",
      "Training accuracy: 84.5%\n",
      "Validation accuracy: 81.8%\n",
      "Loss at step 600: 0.733426\n",
      "Training accuracy: 84.8%\n",
      "Validation accuracy: 82.0%\n",
      "Loss at step 700: 0.698172\n",
      "Training accuracy: 84.9%\n",
      "Validation accuracy: 82.0%\n",
      "Loss at step 800: 0.685667\n",
      "Training accuracy: 84.9%\n",
      "Validation accuracy: 82.0%\n",
      "Test accuracy: 88.9%\n"
     ]
    }
   ],
   "source": [
    "num_steps = 801\n",
    "\n",
    "def accuracy(predictions, labels):\n",
    "    return (100.0 * np.sum(np.argmax(predictions, 1) == np.argmax(labels, 1)) / predictions.shape[0])\n",
    "\n",
    "with tf.Session(graph=graph) as session:\n",
    "    tf.initialize_all_variables().run()\n",
    "    print('Initialized')\n",
    "    for step in range(num_steps):\n",
    "        \n",
    "        _, l, predictions = session.run([optimizer, loss, train_prediction])\n",
    "\n",
    "        if (step % 100 == 0):\n",
    "            print('Loss at step %d: %f' % (step, l))\n",
    "            print('Training accuracy: %.1f%%' % accuracy(\n",
    "            predictions, train_labels[:train_subset, :]))\n",
    "            print('Validation accuracy: %.1f%%' % accuracy( valid_prediction.eval(), valid_labels) )\n",
    "\n",
    "    print('Test accuracy: %.1f%%' % accuracy(test_prediction.eval(), test_labels))"
   ]
  },
  {
   "cell_type": "markdown",
   "metadata": {},
   "source": [
    "### neural network with l2 loss function"
   ]
  },
  {
   "cell_type": "code",
   "execution_count": 32,
   "metadata": {
    "collapsed": true
   },
   "outputs": [],
   "source": [
    "n_hidden = 1024\n",
    "L2_weight = 0.5e-3\n",
    "\n",
    "\n",
    "def forward(tf_X):\n",
    "    \"\"\"\n",
    "    assert tf.shape(tf_X)[1] == image_size*image_size,\\\n",
    "        \"Training data not of correct shape. Each input should be of shape: %s\" % (image_size*image_size)\n",
    "    \"\"\"\n",
    "    with tf.name_scope('hidden1'):\n",
    "        weights = tf.Variable(tf.truncated_normal([image_size*image_size, n_hidden]), name=\"weights\")\n",
    "        biases = tf.Variable(tf.zeros([n_hidden]), name=\"biases\")\n",
    "        z01 = tf.matmul(tf_X, weights) + biases\n",
    "        hidden1 = tf.nn.relu(z01)\n",
    "        l2_reg_01 = tf.nn.l2_loss(weights)\n",
    "    with tf.name_scope('z12'):\n",
    "        weights = tf.Variable(tf.truncated_normal([n_hidden, num_labels]), name=\"weights\")\n",
    "        biases = tf.Variable(tf.zeros([num_labels]), name=\"biases\")\n",
    "        z12 = tf.matmul(hidden1, weights) + biases\n",
    "        l2_reg_12 = tf.nn.l2_loss(weights)\n",
    "    return z12, l2_reg_01+l2_reg_12\n",
    "\n",
    "# Define loss\n",
    "def get_loss(z12, l2_loss, tf_Y):\n",
    "    \"\"\"\n",
    "    assert tf.shape(tf_X)[1] == image_size*image_size,\\\n",
    "        \"Training data not of correct shape. got %s require %s\" % (tf.shape(tf_X)[1], image_size*image_size)\n",
    "    assert tf.shape(tf_Y)[1] == num_labels,\\\n",
    "        \"Training data not of correct shape. got %s require %s\" % (tf.shape(tf_Y)[1], num_labels)\n",
    "    \"\"\"\n",
    "    loss = tf.reduce_mean(tf.nn.softmax_cross_entropy_with_logits(z12, tf_training_labels))\n",
    "    total_loss = loss + L2_weight*l2_loss\n",
    "    return total_loss\n",
    "\n",
    "# Define the network graph\n",
    "graph = tf.Graph()\n",
    "with graph.as_default():\n",
    "    #tf_training_dataset = tf.placeholder(tf.float32, shape=(batch_size, image_size*image_size))\n",
    "    #tf_training_labels = tf.placeholder(tf.float32, shape=(batch_size, num_labels))\n",
    "    tf_training_dataset = tf.placeholder(tf.float32) # Should have shape (batch_size, image_size*image_size)\n",
    "    tf_training_labels = tf.placeholder(tf.float32) # Should have shape (batch_size, num_labels)\n",
    "    \n",
    "    z12, l2_loss = forward(tf_training_dataset)\n",
    "    total_loss = get_loss(z12, l2_loss, tf_training_labels)\n",
    "    optimizer = tf.train.GradientDescentOptimizer(0.5).minimize(total_loss)"
   ]
  },
  {
   "cell_type": "code",
   "execution_count": 33,
   "metadata": {
    "collapsed": false
   },
   "outputs": [
    {
     "name": "stdout",
     "output_type": "stream",
     "text": [
      "Initialized, using batch size: 128\n",
      "Updated batch size: 128\n",
      "Minibatch loss at step 0 : 502.851\n",
      "Minibatch accuracy: 4.7%\n",
      "Validation accuracy: 34.7%\n",
      "Updated batch size: 128\n",
      "Minibatch loss at step 500 : 128.682\n",
      "Minibatch accuracy: 78.9%\n",
      "Validation accuracy: 80.6%\n",
      "Updated batch size: 128\n",
      "Minibatch loss at step 1000 : 98.827\n",
      "Minibatch accuracy: 79.7%\n",
      "Validation accuracy: 81.9%\n",
      "Updated batch size: 128\n",
      "Minibatch loss at step 1500 : 73.2438\n",
      "Minibatch accuracy: 84.4%\n",
      "Validation accuracy: 81.3%\n",
      "Updated batch size: 128\n",
      "Minibatch loss at step 2000 : 57.8333\n",
      "Minibatch accuracy: 83.6%\n",
      "Validation accuracy: 82.8%\n",
      "Updated batch size: 128\n",
      "Minibatch loss at step 2500 : 43.7344\n",
      "Minibatch accuracy: 86.7%\n",
      "Validation accuracy: 84.0%\n",
      "Updated batch size: 128\n",
      "Minibatch loss at step 3000 : 34.312\n",
      "Minibatch accuracy: 85.9%\n",
      "Validation accuracy: 84.2%\n",
      "Test accuracy: 90.8%\n"
     ]
    }
   ],
   "source": [
    "# train the model\n",
    "num_steps = 3001\n",
    "batch_size = 128\n",
    "with tf.Session(graph=graph) as session:\n",
    "    tf.initialize_all_variables().run()\n",
    "    print(\"Initialized, using batch size: %s\" % batch_size)\n",
    "    for step in xrange(num_steps):\n",
    "        idx = np.random.randint(train_dataset.shape[0], size=batch_size)\n",
    "        #offset = (step * batch_size) % (train_labels.shape[0] - batch_size)\n",
    "        # Generate a minibatch.\n",
    "        batch_data = train_dataset[idx]\n",
    "        batch_labels = train_labels[idx]\n",
    "        #batch_data = train_dataset[offset:(offset + batch_size), :]\n",
    "        #batch_labels = train_labels[offset:(offset + batch_size), :]\n",
    "        feed_dict = {tf_training_dataset : batch_data, tf_training_labels : batch_labels}\n",
    "        _, l, predictions = session.run([optimizer, total_loss, z12], feed_dict=feed_dict)\n",
    "        if (step % 500 == 0):\n",
    "            #batch_size += 100\n",
    "            print(\"Updated batch size: %s\" % batch_size)\n",
    "            print(\"Minibatch loss at step\", step, \":\", l)\n",
    "            print(\"Minibatch accuracy: %.1f%%\" % accuracy(predictions, batch_labels))\n",
    "            predictions = session.run(z12, feed_dict={tf_training_dataset: valid_dataset})\n",
    "            print(\"Validation accuracy: %.1f%%\" % accuracy(predictions, valid_labels))\n",
    "    predictions = session.run(z12, feed_dict={tf_training_dataset: test_dataset})\n",
    "    print(\"Test accuracy: %.1f%%\" % accuracy(predictions, test_labels))"
   ]
  },
  {
   "cell_type": "markdown",
   "metadata": {},
   "source": [
    "# Problem 2\n",
    "Let's demonstrate an extreme case of overfitting. Restrict your training data to just a few batches. What happens?"
   ]
  },
  {
   "cell_type": "markdown",
   "metadata": {},
   "source": [
    "------\n",
    "### neural network wiht l2 loss and small training data"
   ]
  },
  {
   "cell_type": "code",
   "execution_count": 34,
   "metadata": {
    "collapsed": false
   },
   "outputs": [
    {
     "name": "stdout",
     "output_type": "stream",
     "text": [
      "Initialized, using batch size: 100\n",
      "Updated batch size: 100\n",
      "Minibatch loss at step 0 : 506.215\n",
      "Minibatch accuracy: 6.0%\n",
      "Validation accuracy: 17.0%\n",
      "Updated batch size: 100\n",
      "Minibatch loss at step 500 : 122.231\n",
      "Minibatch accuracy: 100.0%\n",
      "Validation accuracy: 78.4%\n",
      "Updated batch size: 100\n",
      "Minibatch loss at step 1000 : 95.1697\n",
      "Minibatch accuracy: 100.0%\n",
      "Validation accuracy: 78.3%\n",
      "Updated batch size: 100\n",
      "Minibatch loss at step 1500 : 74.1074\n",
      "Minibatch accuracy: 100.0%\n",
      "Validation accuracy: 78.5%\n",
      "Updated batch size: 100\n",
      "Minibatch loss at step 2000 : 57.7088\n",
      "Minibatch accuracy: 100.0%\n",
      "Validation accuracy: 78.9%\n",
      "Updated batch size: 100\n",
      "Minibatch loss at step 2500 : 44.9396\n",
      "Minibatch accuracy: 100.0%\n",
      "Validation accuracy: 78.9%\n",
      "Updated batch size: 100\n",
      "Minibatch loss at step 3000 : 34.9954\n",
      "Minibatch accuracy: 100.0%\n",
      "Validation accuracy: 78.7%\n",
      "Test accuracy: 86.4%\n"
     ]
    }
   ],
   "source": [
    "# Overfitting using very small subset of data\n",
    "num_steps = 3001\n",
    "batch_size = 100\n",
    "with tf.Session(graph=graph) as session:\n",
    "    tf.initialize_all_variables().run()\n",
    "    print(\"Initialized, using batch size: %s\" % batch_size)\n",
    "    for step in xrange(num_steps):\n",
    "        idx = np.random.randint(train_dataset.shape[0]/100, size=batch_size)\n",
    "        #offset = (step * batch_size) % (train_labels.shape[0] - batch_size)\n",
    "        # Generate a minibatch.\n",
    "        batch_data = train_dataset[idx]\n",
    "        batch_labels = train_labels[idx]\n",
    "        #batch_data = train_dataset[offset:(offset + batch_size), :]\n",
    "        #batch_labels = train_labels[offset:(offset + batch_size), :]\n",
    "        feed_dict = {tf_training_dataset : batch_data, tf_training_labels : batch_labels}\n",
    "        _, l, predictions = session.run([optimizer, total_loss, z12], feed_dict=feed_dict)\n",
    "        if (step % 500 == 0):\n",
    "            #batch_size += 100\n",
    "            print(\"Updated batch size: %s\" % batch_size)\n",
    "            print(\"Minibatch loss at step\", step, \":\", l)\n",
    "            print(\"Minibatch accuracy: %.1f%%\" % accuracy(predictions, batch_labels))\n",
    "            predictions = session.run(z12, feed_dict={tf_training_dataset: valid_dataset})\n",
    "            print(\"Validation accuracy: %.1f%%\" % accuracy(predictions, valid_labels))\n",
    "    predictions = session.run(z12, feed_dict={tf_training_dataset: test_dataset})\n",
    "    print(\"Test accuracy: %.1f%%\" % accuracy(predictions, test_labels))"
   ]
  },
  {
   "cell_type": "markdown",
   "metadata": {},
   "source": [
    "------\n",
    "### log reg with l2 loss and small training data"
   ]
  },
  {
   "cell_type": "code",
   "execution_count": 35,
   "metadata": {
    "collapsed": true
   },
   "outputs": [],
   "source": [
    "# multinomial logistic regression \n",
    "train_subset = 100\n",
    "beta = 0.01\n",
    "\n",
    "graph = tf.Graph()\n",
    "with graph.as_default():\n",
    "\n",
    "    # Input data.\n",
    "    tf_train_dataset = tf.constant(train_dataset[:train_subset, :])\n",
    "    tf_train_labels = tf.constant(train_labels[:train_subset])\n",
    "    tf_valid_dataset = tf.constant(valid_dataset)\n",
    "    tf_test_dataset = tf.constant(test_dataset)\n",
    "  \n",
    "    # Variables    \n",
    "    weights = tf.Variable(\n",
    "    tf.truncated_normal([image_size * image_size, num_labels]))\n",
    "    biases = tf.Variable(tf.zeros([num_labels]))\n",
    "  \n",
    "    # Training computation.\n",
    "    logits = tf.matmul(tf_train_dataset, weights) + biases\n",
    "    \n",
    "    # loss function using l2\n",
    "    loss = tf.reduce_mean( tf.nn.softmax_cross_entropy_with_logits(logits, tf_train_labels) )\n",
    "    loss = tf.reduce_mean(loss + beta * tf.nn.l2_loss(weights) )\n",
    "    \n",
    "    # Optimizer.\n",
    "    optimizer = tf.train.GradientDescentOptimizer(0.5).minimize(loss)\n",
    "  \n",
    "    # Predictions for the training, validation, and test data.\n",
    "    train_prediction = tf.nn.softmax(logits)\n",
    "    valid_prediction = tf.nn.softmax( tf.matmul(tf_valid_dataset, weights) + biases )\n",
    "    test_prediction = tf.nn.softmax(tf.matmul(tf_test_dataset, weights) + biases)"
   ]
  },
  {
   "cell_type": "code",
   "execution_count": 36,
   "metadata": {
    "collapsed": false
   },
   "outputs": [
    {
     "name": "stdout",
     "output_type": "stream",
     "text": [
      "Initialized\n",
      "Loss at step 0: 50.718063\n",
      "Training accuracy: 3.0%\n",
      "Validation accuracy: 9.6%\n",
      "Loss at step 100: 11.271645\n",
      "Training accuracy: 100.0%\n",
      "Validation accuracy: 46.4%\n",
      "Loss at step 200: 4.200890\n",
      "Training accuracy: 100.0%\n",
      "Validation accuracy: 52.2%\n",
      "Loss at step 300: 1.617562\n",
      "Training accuracy: 100.0%\n",
      "Validation accuracy: 57.8%\n",
      "Loss at step 400: 0.675791\n",
      "Training accuracy: 100.0%\n",
      "Validation accuracy: 62.1%\n",
      "Loss at step 500: 0.332560\n",
      "Training accuracy: 100.0%\n",
      "Validation accuracy: 63.9%\n",
      "Loss at step 600: 0.207312\n",
      "Training accuracy: 100.0%\n",
      "Validation accuracy: 64.6%\n",
      "Loss at step 700: 0.161507\n",
      "Training accuracy: 100.0%\n",
      "Validation accuracy: 64.8%\n",
      "Loss at step 800: 0.144699\n",
      "Training accuracy: 100.0%\n",
      "Validation accuracy: 65.0%\n",
      "Test accuracy: 71.6%\n"
     ]
    }
   ],
   "source": [
    "num_steps = 801\n",
    "\n",
    "def accuracy(predictions, labels):\n",
    "    return (100.0 * np.sum(np.argmax(predictions, 1) == np.argmax(labels, 1)) / predictions.shape[0])\n",
    "\n",
    "with tf.Session(graph=graph) as session:\n",
    "    tf.initialize_all_variables().run()\n",
    "    print('Initialized')\n",
    "    for step in range(num_steps):\n",
    "        \n",
    "        _, l, predictions = session.run([optimizer, loss, train_prediction])\n",
    "\n",
    "        if (step % 100 == 0):\n",
    "            print('Loss at step %d: %f' % (step, l))\n",
    "            print('Training accuracy: %.1f%%' % accuracy(\n",
    "            predictions, train_labels[:train_subset, :]))\n",
    "            print('Validation accuracy: %.1f%%' % accuracy( valid_prediction.eval(), valid_labels) )\n",
    "\n",
    "    print('Test accuracy: %.1f%%' % accuracy(test_prediction.eval(), test_labels))"
   ]
  },
  {
   "cell_type": "markdown",
   "metadata": {},
   "source": [
    "Training accuracy goes to 100% due to the small sample size, however, the model is not as good the validation samples."
   ]
  },
  {
   "cell_type": "markdown",
   "metadata": {},
   "source": [
    "# Problem 3\n",
    "Introduce Dropout on the hidden layer of the neural network. Remember: Dropout should only be introduced during training, not evaluation, otherwise your evaluation results would be stochastic as well. TensorFlow provides nn.dropout() for that, but you have to make sure it's only inserted during training.\n",
    "\n",
    "What happens to our extreme overfitting case?"
   ]
  },
  {
   "cell_type": "code",
   "execution_count": 38,
   "metadata": {
    "collapsed": false
   },
   "outputs": [],
   "source": [
    "batch_size = 128\n",
    "beta = 0.001\n",
    "\n",
    "graph = tf.Graph()\n",
    "with graph.as_default():\n",
    "\n",
    "    # Input data. For the training data, we use a placeholder that will be fed\n",
    "    # at run time with a training minibatch.\n",
    "    tf_train_dataset = tf.placeholder(tf.float32, shape=(batch_size, image_size * image_size))\n",
    "    tf_train_labels = tf.placeholder(tf.float32, shape=(batch_size, num_labels))\n",
    "    tf_valid_dataset = tf.constant(valid_dataset)\n",
    "    tf_test_dataset = tf.constant(test_dataset)\n",
    "\n",
    "    # new hidden layer\n",
    "    hidden_nodes = 1024\n",
    "    hidden_weights = tf.Variable( tf.truncated_normal([image_size * image_size, hidden_nodes]) )\n",
    "    hidden_biases = tf.Variable( tf.zeros([hidden_nodes]))\n",
    "    hidden_layer = tf.nn.relu( tf.matmul( tf_train_dataset, hidden_weights) + hidden_biases)\n",
    "    \n",
    "    # add dropout on hidden layer\n",
    "    keep_prob = tf.placeholder(\"float\")\n",
    "    hidden_layer_drop = tf.nn.dropout(hidden_layer, keep_prob)\n",
    "\n",
    "    # Variables.\n",
    "    weights = tf.Variable( tf.truncated_normal([hidden_nodes, num_labels])) \n",
    "    biases = tf.Variable(tf.zeros([num_labels]))\n",
    "\n",
    "    # Training computation.\n",
    "    logits = tf.matmul(hidden_layer_drop, weights) + biases\n",
    "    loss = tf.reduce_mean( tf.nn.softmax_cross_entropy_with_logits(logits, tf_train_labels) )\n",
    "    loss = tf.reduce_mean( loss + beta * tf.nn.l2_loss(weights) )\n",
    "\n",
    "    # Optimizer.\n",
    "    optimizer = tf.train.GradientDescentOptimizer(0.5).minimize(loss)\n",
    "\n",
    "    # Predictions for the training, validation, and test data.\n",
    "    train_prediction = tf.nn.softmax(logits)\n",
    "    valid_relu = tf.nn.relu(  tf.matmul(tf_valid_dataset, hidden_weights) + hidden_biases)\n",
    "    valid_prediction = tf.nn.softmax( tf.matmul(valid_relu, weights) + biases) \n",
    "\n",
    "    test_relu = tf.nn.relu( tf.matmul( tf_test_dataset, hidden_weights) + hidden_biases)\n",
    "    test_prediction = tf.nn.softmax(tf.matmul(test_relu, weights) + biases)"
   ]
  },
  {
   "cell_type": "code",
   "execution_count": 39,
   "metadata": {
    "collapsed": false
   },
   "outputs": [
    {
     "name": "stdout",
     "output_type": "stream",
     "text": [
      "Initialized\n",
      "Minibatch loss at step 0: 459.557098\n",
      "Minibatch accuracy: 17.2%\n",
      "Validation accuracy: 35.1%\n",
      "Minibatch loss at step 500: 40.795624\n",
      "Minibatch accuracy: 72.7%\n",
      "Validation accuracy: 78.1%\n",
      "Minibatch loss at step 1000: 18.608608\n",
      "Minibatch accuracy: 75.8%\n",
      "Validation accuracy: 80.1%\n",
      "Minibatch loss at step 1500: 10.248548\n",
      "Minibatch accuracy: 78.9%\n",
      "Validation accuracy: 79.2%\n",
      "Minibatch loss at step 2000: 6.949739\n",
      "Minibatch accuracy: 72.7%\n",
      "Validation accuracy: 79.3%\n",
      "Minibatch loss at step 2500: 4.872125\n",
      "Minibatch accuracy: 76.6%\n",
      "Validation accuracy: 79.2%\n",
      "Minibatch loss at step 3000: 4.625711\n",
      "Minibatch accuracy: 77.3%\n",
      "Validation accuracy: 80.3%\n",
      "Test accuracy: 87.6%\n"
     ]
    }
   ],
   "source": [
    "num_steps = 3001\n",
    "\n",
    "with tf.Session(graph=graph) as session:\n",
    "    tf.initialize_all_variables().run()\n",
    "    print(\"Initialized\")\n",
    "    for step in range(num_steps):\n",
    "        # Pick an offset within the training data, which has been randomized.\n",
    "        # Note: we could use better randomization across epochs.\n",
    "        offset = (step * batch_size) % (train_labels.shape[0] - batch_size)\n",
    "        # Generate a minibatch.\n",
    "        batch_data = train_dataset[offset:(offset + batch_size), :]\n",
    "        batch_labels = train_labels[offset:(offset + batch_size), :]\n",
    "\n",
    "        feed_dict = {tf_train_dataset : batch_data, tf_train_labels : batch_labels, keep_prob : 0.5}\n",
    "        _, l, predictions = session.run( [optimizer, loss, train_prediction], feed_dict=feed_dict)\n",
    "        if (step % 500 == 0):\n",
    "            print(\"Minibatch loss at step %d: %f\" % (step, l))\n",
    "            print(\"Minibatch accuracy: %.1f%%\" % accuracy(predictions, batch_labels))\n",
    "            print(\"Validation accuracy: %.1f%%\" % accuracy( valid_prediction.eval(), valid_labels) )\n",
    "    print(\"Test accuracy: %.1f%%\" % accuracy(test_prediction.eval(), test_labels))"
   ]
  },
  {
   "cell_type": "code",
   "execution_count": 40,
   "metadata": {
    "collapsed": false
   },
   "outputs": [
    {
     "name": "stdout",
     "output_type": "stream",
     "text": [
      "Initialized\n",
      "Minibatch loss at step 0: 525.713196\n",
      "Minibatch accuracy: 10.9%\n",
      "Validation accuracy: 25.7%\n",
      "Minibatch loss at step 500: 2.992490\n",
      "Minibatch accuracy: 100.0%\n",
      "Validation accuracy: 78.6%\n",
      "Minibatch loss at step 1000: 1.856812\n",
      "Minibatch accuracy: 100.0%\n",
      "Validation accuracy: 78.7%\n",
      "Minibatch loss at step 1500: 1.164409\n",
      "Minibatch accuracy: 100.0%\n",
      "Validation accuracy: 78.1%\n",
      "Minibatch loss at step 2000: 0.738911\n",
      "Minibatch accuracy: 100.0%\n",
      "Validation accuracy: 78.5%\n",
      "Minibatch loss at step 2500: 0.466634\n",
      "Minibatch accuracy: 100.0%\n",
      "Validation accuracy: 78.4%\n",
      "Minibatch loss at step 3000: 0.322515\n",
      "Minibatch accuracy: 100.0%\n",
      "Validation accuracy: 78.4%\n",
      "Test accuracy: 85.3%\n"
     ]
    }
   ],
   "source": [
    "num_steps = 3001\n",
    "\n",
    "train_dataset_2 = train_dataset[:500, :]\n",
    "train_labels_2 = train_labels[:500]\n",
    "\n",
    "with tf.Session(graph=graph) as session:\n",
    "    tf.initialize_all_variables().run()\n",
    "    print(\"Initialized\")\n",
    "    for step in range(num_steps):\n",
    "        offset = (step * batch_size) % (train_labels_2.shape[0] - batch_size)\n",
    "        \n",
    "        batch_data = train_dataset_2[offset:(offset + batch_size), :]\n",
    "        batch_labels = train_labels_2[offset:(offset + batch_size), :]\n",
    "        \n",
    "        feed_dict = {tf_train_dataset : batch_data, tf_train_labels : batch_labels, keep_prob : 0.5}\n",
    "        _, l, predictions = session.run(\n",
    "          [optimizer, loss, train_prediction], feed_dict=feed_dict)\n",
    "        if (step % 500 == 0):\n",
    "            print(\"Minibatch loss at step %d: %f\" % (step, l))\n",
    "            print(\"Minibatch accuracy: %.1f%%\" % accuracy(predictions, batch_labels))\n",
    "            print(\"Validation accuracy: %.1f%%\" % accuracy(\n",
    "        valid_prediction.eval(), valid_labels))\n",
    "    print(\"Test accuracy: %.1f%%\" % accuracy(test_prediction.eval(), test_labels))"
   ]
  },
  {
   "cell_type": "markdown",
   "metadata": {},
   "source": [
    "# Problem 4\n",
    "Try to get the best performance you can using a multi-layer model! The best reported test accuracy using a deep network is 97.1%.\n",
    "\n",
    "One avenue you can explore is to add multiple layers.\n",
    "\n",
    "Another one is to use learning rate decay:\n",
    "\n",
    "    global_step = tf.Variable(0)  # count the number of steps taken.\n",
    "    learning_rate = tf.train.exponential_decay(0.5, step, ...)\n",
    "    optimizer = tf.train.GradientDescentOptimizer(learning_rate).minimize(loss, global_step=global_step)"
   ]
  },
  {
   "cell_type": "markdown",
   "metadata": {},
   "source": [
    "-----------\n",
    "What you can do:\n",
    "- trying smaller beta and bigger num steps\n",
    "- trying keep prob of 0.1\n",
    "- trying with learning rate and multiple keep probs\n",
    "- trying different learning rates\n",
    "- trying 2 layer neural network\n",
    "- trying 2 NN with different loss function"
   ]
  },
  {
   "cell_type": "markdown",
   "metadata": {},
   "source": [
    "### BEST MODEL"
   ]
  },
  {
   "cell_type": "code",
   "execution_count": 42,
   "metadata": {
    "collapsed": true
   },
   "outputs": [],
   "source": [
    "\"\"\"\n",
    "[Step: 5000] Minibatch loss 12.6376, accuracy: 89.5%\n",
    "[Step: 5000] Validation loss 12.6891, accuracy: 86.9%\n",
    "Test loss 12.4793, accuracy: 93.0%\n",
    "\"\"\"\n",
    "\n",
    "batch_size = 128\n",
    "n_hidden = 1024\n",
    "L2_weight = 0.5e-3\n",
    "\n",
    "def forward(tf_X, dropout_p):\n",
    "    \"\"\"\n",
    "    assert tf.shape(tf_X)[1] == image_size*image_size,\\\n",
    "        \"Training data not of correct shape. Each input should be of shape: %s\" % (image_size*image_size)\n",
    "    \"\"\"\n",
    "    l2_weight_loss = [0]\n",
    "    #tf.Variable(0, name=\"l2_weight_loss\")\n",
    "    with tf.name_scope('hidden1'):\n",
    "        weights = tf.Variable(tf.truncated_normal([image_size*image_size, n_hidden]), name=\"weights\")\n",
    "        biases = tf.Variable(tf.zeros([n_hidden]), name=\"biases\")\n",
    "        z01 = tf.matmul(tf.nn.dropout(tf_X, 0.9), weights) + biases # Dropout input keeping 0.9 inputs always\n",
    "        hidden1 = tf.nn.dropout(tf.nn.relu(z01), dropout_p) # Added dropout\n",
    "        #hidden1 = tf.nn.relu(z01) # No dropout\n",
    "        l2_weight_loss.append(tf.nn.l2_loss(weights))\n",
    "    \"\"\"\n",
    "    with tf.name_scope('z12'):\n",
    "        weights = tf.Variable(tf.truncated_normal([n_hidden, n_hidden]), name=\"weights\")\n",
    "        biases = tf.Variable(tf.zeros([n_hidden]), name=\"biases\")\n",
    "        z12 = tf.matmul(hidden1, weights) + biases\n",
    "        hidden2 = tf.nn.dropout(tf.nn.tanh(z12), dropout_p) # Added dropout\n",
    "        #hidden2 = tf.nn.relu(z12) # No dropout\n",
    "        #l2_weight_loss.append(tf.nn.l2_loss(weights))\n",
    "    \"\"\"\n",
    "    with tf.name_scope('outputs'):\n",
    "        weights = tf.Variable(tf.truncated_normal([n_hidden, num_labels]), name=\"weights\")\n",
    "        biases = tf.Variable(tf.zeros([num_labels]), name=\"biases\")\n",
    "        outputs = tf.matmul(hidden1, weights) + biases # Add constant to ensure input to log is never zero.\n",
    "        l2_weight_loss.append(tf.nn.l2_loss(weights))\n",
    "    return outputs, reduce(lambda x, y: x + y, l2_weight_loss)\n",
    "    #return outputs, 0"
   ]
  },
  {
   "cell_type": "code",
   "execution_count": 41,
   "metadata": {
    "collapsed": true
   },
   "outputs": [],
   "source": [
    "# Define loss\n",
    "def get_loss(outputs, l2_loss, tf_Y):\n",
    "    \"\"\"\n",
    "    assert tf.shape(tf_X)[1] == image_size*image_size,\\\n",
    "        \"Training data not of correct shape. got %s require %s\" % (tf.shape(tf_X)[1], image_size*image_size)\n",
    "    assert tf.shape(tf_Y)[1] == num_labels,\\\n",
    "        \"Training data not of correct shape. got %s require %s\" % (tf.shape(tf_Y)[1], num_labels)\n",
    "    \"\"\"\n",
    "    loss = tf.reduce_mean(tf.nn.softmax_cross_entropy_with_logits(outputs, tf_training_labels))\n",
    "    total_loss = loss + L2_weight*l2_loss\n",
    "    return total_loss"
   ]
  },
  {
   "cell_type": "code",
   "execution_count": 44,
   "metadata": {
    "collapsed": false
   },
   "outputs": [],
   "source": [
    "# Define the network graph\n",
    "# tf.python.framework.ops.reset_default_graph()\n",
    "graph = tf.Graph()\n",
    "with graph.as_default():\n",
    "    tf_training_dataset = tf.placeholder(tf.float32) # Should have shape (batch_size, image_size*image_size)\n",
    "    tf_training_labels = tf.placeholder(tf.float32) # Should have shape (batch_size, num_labels)\n",
    "    dropout_p = tf.placeholder(tf.float32)\n",
    "    \n",
    "    outputs, l2_loss = forward(tf_training_dataset, dropout_p)\n",
    "    total_loss = get_loss(outputs, l2_loss, tf_training_labels)\n",
    "    \n",
    "    global_step = tf.Variable(0, trainable=False)  # count the number of steps taken.\n",
    "    #learning_rate = tf.train.exponential_decay(0.5, global_step, 10000, 0.96)\n",
    "    learning_rate = 0.5\n",
    "    optimizer = tf.train.GradientDescentOptimizer(learning_rate).minimize(total_loss, global_step=global_step)"
   ]
  },
  {
   "cell_type": "code",
   "execution_count": 46,
   "metadata": {
    "collapsed": false
   },
   "outputs": [
    {
     "name": "stdout",
     "output_type": "stream",
     "text": [
      "Initialized, using batch size: 128\n",
      "Updated batch size: 228\n",
      "[Step: 0] Minibatch loss 542.261, accuracy: 50.8%\n",
      "[Step: 0] Validation loss 1806.13, accuracy: 39.0%\n",
      "Updated batch size: 328\n",
      "[Step: 500] Minibatch loss 128.014, accuracy: 86.8%\n",
      "[Step: 500] Validation loss 133.583, accuracy: 79.2%\n",
      "Updated batch size: 428\n",
      "[Step: 1000] Minibatch loss 97.5414, accuracy: 84.8%\n",
      "[Step: 1000] Validation loss 97.5553, accuracy: 80.2%\n",
      "Updated batch size: 528\n",
      "[Step: 1500] Minibatch loss 73.8631, accuracy: 82.0%\n",
      "[Step: 1500] Validation loss 74.4446, accuracy: 80.0%\n",
      "Updated batch size: 628\n",
      "[Step: 2000] Minibatch loss 57.3519, accuracy: 78.8%\n",
      "[Step: 2000] Validation loss 57.9258, accuracy: 76.0%\n",
      "Updated batch size: 728\n",
      "[Step: 2500] Minibatch loss 43.6407, accuracy: 84.2%\n",
      "[Step: 2500] Validation loss 43.6096, accuracy: 83.4%\n",
      "Updated batch size: 828\n",
      "[Step: 3000] Minibatch loss 33.8846, accuracy: 87.1%\n",
      "[Step: 3000] Validation loss 33.9103, accuracy: 84.1%\n",
      "Updated batch size: 928\n",
      "[Step: 3500] Minibatch loss 26.5345, accuracy: 85.4%\n",
      "[Step: 3500] Validation loss 26.5021, accuracy: 83.9%\n",
      "Updated batch size: 1028\n",
      "[Step: 4000] Minibatch loss 20.5289, accuracy: 88.8%\n",
      "[Step: 4000] Validation loss 20.5935, accuracy: 85.9%\n",
      "Updated batch size: 1128\n",
      "[Step: 4500] Minibatch loss 16.0491, accuracy: 89.8%\n",
      "[Step: 4500] Validation loss 16.1327, accuracy: 86.4%\n",
      "Updated batch size: 1228\n",
      "[Step: 5000] Minibatch loss 12.5877, accuracy: 89.8%\n",
      "[Step: 5000] Validation loss 12.6561, accuracy: 86.7%\n",
      "Test loss 12.4332, accuracy: 93.2%\n"
     ]
    }
   ],
   "source": [
    "# train the model\n",
    "num_steps = 5001\n",
    "batch_size = 128\n",
    "with tf.Session(graph=graph) as session:\n",
    "    tf.initialize_all_variables().run()\n",
    "    print(\"Initialized, using batch size: %s\" % batch_size)\n",
    "    for step in xrange(num_steps):\n",
    "        idx = np.random.randint(train_dataset.shape[0], size=batch_size)\n",
    "        #offset = (step * batch_size) % (train_labels.shape[0] - batch_size)\n",
    "        # Generate a minibatch.\n",
    "        batch_data = train_dataset[idx]\n",
    "        batch_labels = train_labels[idx]\n",
    "        #batch_data = train_dataset[offset:(offset + batch_size), :]\n",
    "        #batch_labels = train_labels[offset:(offset + batch_size), :]\n",
    "        feed_dict = {tf_training_dataset : batch_data, tf_training_labels : batch_labels, dropout_p: 1}\n",
    "        _, l = session.run([optimizer, total_loss], feed_dict=feed_dict)\n",
    "        predictions = session.run(outputs, feed_dict={tf_training_dataset: batch_data, dropout_p: 1})\n",
    "        if (step % 500 == 0):\n",
    "            batch_size += 100\n",
    "            print(\"Updated batch size: %s\" % batch_size)\n",
    "            print(\"[Step: %s] Minibatch loss %s, accuracy: %.1f%%\" % (step, l, accuracy(predictions, batch_labels)))\n",
    "            predictions, l = session.run([outputs, total_loss], \n",
    "                                      feed_dict={tf_training_dataset: valid_dataset, tf_training_labels : valid_labels, dropout_p: 1})\n",
    "            print(\"[Step: %s] Validation loss %s, accuracy: %.1f%%\" % (step, l, accuracy(predictions, valid_labels)))\n",
    "    predictions, l = session.run([outputs, total_loss], \n",
    "                                      feed_dict={tf_training_dataset: test_dataset, tf_training_labels : test_labels, dropout_p: 1})\n",
    "    print(\"Test loss %s, accuracy: %.1f%%\" % (l, accuracy(predictions, test_labels)))"
   ]
  },
  {
   "cell_type": "code",
   "execution_count": null,
   "metadata": {
    "collapsed": true
   },
   "outputs": [],
   "source": []
  }
 ],
 "metadata": {
  "kernelspec": {
   "display_name": "Python 2",
   "language": "python",
   "name": "python2"
  },
  "language_info": {
   "codemirror_mode": {
    "name": "ipython",
    "version": 2
   },
   "file_extension": ".py",
   "mimetype": "text/x-python",
   "name": "python",
   "nbconvert_exporter": "python",
   "pygments_lexer": "ipython2",
   "version": "2.7.12"
  }
 },
 "nbformat": 4,
 "nbformat_minor": 1
}
